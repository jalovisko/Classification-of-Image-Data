{
  "nbformat": 4,
  "nbformat_minor": 0,
  "metadata": {
    "colab": {
      "name": "COMP 551 - MLP Image Classification.ipynb",
      "provenance": [],
      "collapsed_sections": []
    },
    "kernelspec": {
      "name": "python3",
      "display_name": "Python 3"
    },
    "widgets": {
      "application/vnd.jupyter.widget-state+json": {
        "1875649268f7480b86aa477b8e539636": {
          "model_module": "@jupyter-widgets/controls",
          "model_name": "HBoxModel",
          "state": {
            "_view_name": "HBoxView",
            "_dom_classes": [],
            "_model_name": "HBoxModel",
            "_view_module": "@jupyter-widgets/controls",
            "_model_module_version": "1.5.0",
            "_view_count": null,
            "_view_module_version": "1.5.0",
            "box_style": "",
            "layout": "IPY_MODEL_ac73bcaf29184380ace0243d328942a2",
            "_model_module": "@jupyter-widgets/controls",
            "children": [
              "IPY_MODEL_bbaab6cf25b14885b864703c594c7311",
              "IPY_MODEL_61fe08a6a7cb4f78b1b030b2fe773b8a"
            ]
          }
        },
        "ac73bcaf29184380ace0243d328942a2": {
          "model_module": "@jupyter-widgets/base",
          "model_name": "LayoutModel",
          "state": {
            "_view_name": "LayoutView",
            "grid_template_rows": null,
            "right": null,
            "justify_content": null,
            "_view_module": "@jupyter-widgets/base",
            "overflow": null,
            "_model_module_version": "1.2.0",
            "_view_count": null,
            "flex_flow": null,
            "width": null,
            "min_width": null,
            "border": null,
            "align_items": null,
            "bottom": null,
            "_model_module": "@jupyter-widgets/base",
            "top": null,
            "grid_column": null,
            "overflow_y": null,
            "overflow_x": null,
            "grid_auto_flow": null,
            "grid_area": null,
            "grid_template_columns": null,
            "flex": null,
            "_model_name": "LayoutModel",
            "justify_items": null,
            "grid_row": null,
            "max_height": null,
            "align_content": null,
            "visibility": null,
            "align_self": null,
            "height": null,
            "min_height": null,
            "padding": null,
            "grid_auto_rows": null,
            "grid_gap": null,
            "max_width": null,
            "order": null,
            "_view_module_version": "1.2.0",
            "grid_template_areas": null,
            "object_position": null,
            "object_fit": null,
            "grid_auto_columns": null,
            "margin": null,
            "display": null,
            "left": null
          }
        },
        "bbaab6cf25b14885b864703c594c7311": {
          "model_module": "@jupyter-widgets/controls",
          "model_name": "IntProgressModel",
          "state": {
            "_view_name": "ProgressView",
            "style": "IPY_MODEL_71648b9979944a3fa57e6cfafa77a0c4",
            "_dom_classes": [],
            "description": "",
            "_model_name": "IntProgressModel",
            "bar_style": "success",
            "max": 1,
            "_view_module": "@jupyter-widgets/controls",
            "_model_module_version": "1.5.0",
            "value": 1,
            "_view_count": null,
            "_view_module_version": "1.5.0",
            "orientation": "horizontal",
            "min": 0,
            "description_tooltip": null,
            "_model_module": "@jupyter-widgets/controls",
            "layout": "IPY_MODEL_22d3009e3b0d4afcbf9ae754b9ab78af"
          }
        },
        "61fe08a6a7cb4f78b1b030b2fe773b8a": {
          "model_module": "@jupyter-widgets/controls",
          "model_name": "HTMLModel",
          "state": {
            "_view_name": "HTMLView",
            "style": "IPY_MODEL_4dae20f87f344050bdeacf34afbdbb46",
            "_dom_classes": [],
            "description": "",
            "_model_name": "HTMLModel",
            "placeholder": "​",
            "_view_module": "@jupyter-widgets/controls",
            "_model_module_version": "1.5.0",
            "value": " 170500096/? [00:06&lt;00:00, 26585423.70it/s]",
            "_view_count": null,
            "_view_module_version": "1.5.0",
            "description_tooltip": null,
            "_model_module": "@jupyter-widgets/controls",
            "layout": "IPY_MODEL_10861d43e5db42a99afbacdad9a54de2"
          }
        },
        "71648b9979944a3fa57e6cfafa77a0c4": {
          "model_module": "@jupyter-widgets/controls",
          "model_name": "ProgressStyleModel",
          "state": {
            "_view_name": "StyleView",
            "_model_name": "ProgressStyleModel",
            "description_width": "initial",
            "_view_module": "@jupyter-widgets/base",
            "_model_module_version": "1.5.0",
            "_view_count": null,
            "_view_module_version": "1.2.0",
            "bar_color": null,
            "_model_module": "@jupyter-widgets/controls"
          }
        },
        "22d3009e3b0d4afcbf9ae754b9ab78af": {
          "model_module": "@jupyter-widgets/base",
          "model_name": "LayoutModel",
          "state": {
            "_view_name": "LayoutView",
            "grid_template_rows": null,
            "right": null,
            "justify_content": null,
            "_view_module": "@jupyter-widgets/base",
            "overflow": null,
            "_model_module_version": "1.2.0",
            "_view_count": null,
            "flex_flow": null,
            "width": null,
            "min_width": null,
            "border": null,
            "align_items": null,
            "bottom": null,
            "_model_module": "@jupyter-widgets/base",
            "top": null,
            "grid_column": null,
            "overflow_y": null,
            "overflow_x": null,
            "grid_auto_flow": null,
            "grid_area": null,
            "grid_template_columns": null,
            "flex": null,
            "_model_name": "LayoutModel",
            "justify_items": null,
            "grid_row": null,
            "max_height": null,
            "align_content": null,
            "visibility": null,
            "align_self": null,
            "height": null,
            "min_height": null,
            "padding": null,
            "grid_auto_rows": null,
            "grid_gap": null,
            "max_width": null,
            "order": null,
            "_view_module_version": "1.2.0",
            "grid_template_areas": null,
            "object_position": null,
            "object_fit": null,
            "grid_auto_columns": null,
            "margin": null,
            "display": null,
            "left": null
          }
        },
        "4dae20f87f344050bdeacf34afbdbb46": {
          "model_module": "@jupyter-widgets/controls",
          "model_name": "DescriptionStyleModel",
          "state": {
            "_view_name": "StyleView",
            "_model_name": "DescriptionStyleModel",
            "description_width": "",
            "_view_module": "@jupyter-widgets/base",
            "_model_module_version": "1.5.0",
            "_view_count": null,
            "_view_module_version": "1.2.0",
            "_model_module": "@jupyter-widgets/controls"
          }
        },
        "10861d43e5db42a99afbacdad9a54de2": {
          "model_module": "@jupyter-widgets/base",
          "model_name": "LayoutModel",
          "state": {
            "_view_name": "LayoutView",
            "grid_template_rows": null,
            "right": null,
            "justify_content": null,
            "_view_module": "@jupyter-widgets/base",
            "overflow": null,
            "_model_module_version": "1.2.0",
            "_view_count": null,
            "flex_flow": null,
            "width": null,
            "min_width": null,
            "border": null,
            "align_items": null,
            "bottom": null,
            "_model_module": "@jupyter-widgets/base",
            "top": null,
            "grid_column": null,
            "overflow_y": null,
            "overflow_x": null,
            "grid_auto_flow": null,
            "grid_area": null,
            "grid_template_columns": null,
            "flex": null,
            "_model_name": "LayoutModel",
            "justify_items": null,
            "grid_row": null,
            "max_height": null,
            "align_content": null,
            "visibility": null,
            "align_self": null,
            "height": null,
            "min_height": null,
            "padding": null,
            "grid_auto_rows": null,
            "grid_gap": null,
            "max_width": null,
            "order": null,
            "_view_module_version": "1.2.0",
            "grid_template_areas": null,
            "object_position": null,
            "object_fit": null,
            "grid_auto_columns": null,
            "margin": null,
            "display": null,
            "left": null
          }
        }
      }
    }
  },
  "cells": [
    {
      "cell_type": "markdown",
      "metadata": {
        "id": "IR4erZYGZIE9",
        "colab_type": "text"
      },
      "source": [
        "# Mini-Project 3: Classification of Image Data"
      ]
    },
    {
      "cell_type": "markdown",
      "metadata": {
        "id": "Fv7iRUX3h5fr",
        "colab_type": "text"
      },
      "source": [
        "McGill University\n"
      ]
    },
    {
      "cell_type": "markdown",
      "metadata": {
        "id": "VBdFusGliEWA",
        "colab_type": "text"
      },
      "source": [
        "845 Sherbrooke Street West, Montréal (Québec)  H3A 0G4"
      ]
    },
    {
      "cell_type": "markdown",
      "metadata": {
        "id": "JvsGc-cLPGar",
        "colab_type": "text"
      },
      "source": [
        "## 1. Acquiring, preprocessing, and analyzing the data"
      ]
    },
    {
      "cell_type": "markdown",
      "metadata": {
        "id": "1f4xampiPXaU",
        "colab_type": "text"
      },
      "source": [
        "### 1.1. Loading and looking at data\n",
        "\n",
        "\n"
      ]
    },
    {
      "cell_type": "markdown",
      "metadata": {
        "id": "p4zdCkcO66gd",
        "colab_type": "text"
      },
      "source": [
        "Importing the required libraries"
      ]
    },
    {
      "cell_type": "code",
      "metadata": {
        "id": "XMPg7hmeXk8U",
        "colab_type": "code",
        "outputId": "851f1db6-94e3-4e46-d315-e121530398ea",
        "colab": {
          "base_uri": "https://localhost:8080/",
          "height": 110
        }
      },
      "source": [
        "import numpy as np\n",
        "import pandas as pd\n",
        "import seaborn as sns\n",
        "\n",
        "import matplotlib.pyplot as plt\n",
        "\n",
        "sns.set()\n",
        "%pylab inline"
      ],
      "execution_count": 0,
      "outputs": [
        {
          "output_type": "stream",
          "text": [
            "Populating the interactive namespace from numpy and matplotlib\n"
          ],
          "name": "stdout"
        },
        {
          "output_type": "stream",
          "text": [
            "/usr/local/lib/python3.6/dist-packages/statsmodels/tools/_testing.py:19: FutureWarning: pandas.util.testing is deprecated. Use the functions in the public API at pandas.testing instead.\n",
            "  import pandas.util.testing as tm\n"
          ],
          "name": "stderr"
        },
        {
          "output_type": "stream",
          "text": [
            "Populating the interactive namespace from numpy and matplotlib\n"
          ],
          "name": "stdout"
        }
      ]
    },
    {
      "cell_type": "markdown",
      "metadata": {
        "id": "FOFKGfok6_a6",
        "colab_type": "text"
      },
      "source": [
        "Importing the CIFAR-10  dataset:\n"
      ]
    },
    {
      "cell_type": "code",
      "metadata": {
        "id": "ruk6JnO7LYK7",
        "colab_type": "code",
        "colab": {}
      },
      "source": [
        "from torchvision.datasets import CIFAR10\n",
        "from torch.utils.data import DataLoader"
      ],
      "execution_count": 0,
      "outputs": []
    },
    {
      "cell_type": "code",
      "metadata": {
        "id": "pSRzJ16GLQDz",
        "colab_type": "code",
        "outputId": "742d2896-c5df-41a0-edf8-05ed79182fe0",
        "colab": {
          "base_uri": "https://localhost:8080/",
          "height": 104,
          "referenced_widgets": [
            "1875649268f7480b86aa477b8e539636",
            "ac73bcaf29184380ace0243d328942a2",
            "bbaab6cf25b14885b864703c594c7311",
            "61fe08a6a7cb4f78b1b030b2fe773b8a",
            "71648b9979944a3fa57e6cfafa77a0c4",
            "22d3009e3b0d4afcbf9ae754b9ab78af",
            "4dae20f87f344050bdeacf34afbdbb46",
            "10861d43e5db42a99afbacdad9a54de2"
          ]
        }
      },
      "source": [
        "trainset = CIFAR10(root = './data', train = True, download = True)\n",
        "\n",
        "trainloader = DataLoader(trainset,\n",
        "                         batch_size = 4,\n",
        "                         shuffle = True,\n",
        "                         num_workers = 2\n",
        "                         )\n",
        "\n",
        "testset = CIFAR10(root = './data', train = False, download = True)\n",
        "\n",
        "testloader = DataLoader(testset,\n",
        "                        batch_size = 4,\n",
        "                        shuffle = False,\n",
        "                        num_workers = 2)\n",
        "\n",
        "# Classes corresponding to the target values\n",
        "classes = ('plane', 'car', 'bird', 'cat',\n",
        "           'deer', 'dog', 'frog', 'horse', 'ship', 'truck')"
      ],
      "execution_count": 0,
      "outputs": [
        {
          "output_type": "stream",
          "text": [
            "Downloading https://www.cs.toronto.edu/~kriz/cifar-10-python.tar.gz to ./data/cifar-10-python.tar.gz\n"
          ],
          "name": "stdout"
        },
        {
          "output_type": "display_data",
          "data": {
            "application/vnd.jupyter.widget-view+json": {
              "model_id": "1875649268f7480b86aa477b8e539636",
              "version_minor": 0,
              "version_major": 2
            },
            "text/plain": [
              "HBox(children=(IntProgress(value=1, bar_style='info', max=1), HTML(value='')))"
            ]
          },
          "metadata": {
            "tags": []
          }
        },
        {
          "output_type": "stream",
          "text": [
            "Extracting ./data/cifar-10-python.tar.gz to ./data\n",
            "Files already downloaded and verified\n"
          ],
          "name": "stdout"
        }
      ]
    },
    {
      "cell_type": "markdown",
      "metadata": {
        "id": "e-ZLxfSG9gt9",
        "colab_type": "text"
      },
      "source": [
        "Taking a look at first $5$ images of the data train data and their corresponding classes:"
      ]
    },
    {
      "cell_type": "code",
      "metadata": {
        "id": "9Y12FRPA29Hz",
        "colab_type": "code",
        "outputId": "1f5f0577-ff04-4206-bad1-b53257416396",
        "colab": {
          "base_uri": "https://localhost:8080/",
          "height": 1000
        }
      },
      "source": [
        "for i in range(5):\n",
        "    plt.imshow(trainset[i][0])\n",
        "\n",
        "    plt.axis('off')\n",
        "    plt.grid(b = None)\n",
        "    \n",
        "    plt.show()\n",
        "    print(classes[trainset[i][1]])"
      ],
      "execution_count": 0,
      "outputs": [
        {
          "output_type": "display_data",
          "data": {
            "image/png": "[encoded data removed]",
            "text/plain": [
              "<Figure size 432x288 with 1 Axes>"
            ]
          },
          "metadata": {
            "tags": [],
            "needs_background": "light"
          }
        },
        {
          "output_type": "stream",
          "text": [
            "\n",
            "frog\n"
          ],
          "name": "stdout"
        },
        {
          "output_type": "display_data",
          "data": {
            "image/png": "[encoded data removed]",
            "text/plain": [
              "<Figure size 432x288 with 1 Axes>"
            ]
          },
          "metadata": {
            "tags": [],
            "needs_background": "light"
          }
        },
        {
          "output_type": "stream",
          "text": [
            "truck\n"
          ],
          "name": "stdout"
        },
        {
          "output_type": "display_data",
          "data": {
            "image/png": "[encoded data removed]",
            "text/plain": [
              "<Figure size 432x288 with 1 Axes>"
            ]
          },
          "metadata": {
            "tags": [],
            "needs_background": "light"
          }
        },
        {
          "output_type": "stream",
          "text": [
            "truck\n"
          ],
          "name": "stdout"
        },
        {
          "output_type": "display_data",
          "data": {
            "image/png": "[encoded data removed]",
            "text/plain": [
              "<Figure size 432x288 with 1 Axes>"
            ]
          },
          "metadata": {
            "tags": [],
            "needs_background": "light"
          }
        },
        {
          "output_type": "stream",
          "text": [
            "deer\n"
          ],
          "name": "stdout"
        },
        {
          "output_type": "display_data",
          "data": {
            "image/png": "[encoded data removed]",
            "text/plain": [
              "<Figure size 432x288 with 1 Axes>"
            ]
          },
          "metadata": {
            "tags": [],
            "needs_background": "light"
          }
        },
        {
          "output_type": "stream",
          "text": [
            "car\n"
          ],
          "name": "stdout"
        }
      ]
    },
    {
      "cell_type": "markdown",
      "metadata": {
        "id": "QkKBI2QrmX7m",
        "colab_type": "text"
      },
      "source": [
        "### 1.2. Data preprocessing"
      ]
    },
    {
      "cell_type": "markdown",
      "metadata": {
        "id": "aYp-q957d2XJ",
        "colab_type": "text"
      },
      "source": [
        "First, note that every image in the CIFAR-10 dataset has $32 \\times 32 \\times 3$ or $3072$ features as it is essentially a patch of $32 \\times 32$ pixels with $3$ chanels corresponding to fundamental colors: red, green, blue (RGB)."
      ]
    },
    {
      "cell_type": "markdown",
      "metadata": {
        "id": "9X0rZA_zAE1D",
        "colab_type": "text"
      },
      "source": [
        "Thus, every image can be considered as a numpy array. It was decided to define the function for data preprocessing separatelly as it shall be used for the testing dataset later."
      ]
    },
    {
      "cell_type": "code",
      "metadata": {
        "colab_type": "code",
        "id": "xgCHlGvmzNSU",
        "colab": {}
      },
      "source": [
        "def preprocessing(dataset):\n",
        "\n",
        "    print(\"Converting to numpy arrays...\")\n",
        "    X = []\n",
        "    y = []\n",
        "\n",
        "    for i in range(len(trainset)):\n",
        "        X.append(numpy.asarray(trainset[i][0]))\n",
        "\n",
        "        y.append(trainset[i][1])\n",
        "        i += 1\n",
        "\n",
        "    # considering X and y as numpy arrays\n",
        "    X = np.asarray(X)\n",
        "    y = np.asarray(y)\n",
        "\n",
        "    '''\n",
        "    Every feature of every image is essentially a value in the interval of\n",
        "    [0,...,255] . Thus, the data can be normalized according to this:\n",
        "    '''\n",
        "\n",
        "    print(\"Normalizing...\")\n",
        "\n",
        "    X = X / 255.0 # normalizing\n",
        "\n",
        "    # Getting the number of features and classes:\n",
        "    n_features = 1\n",
        "    for d in X[0].shape:\n",
        "        n_features *= d\n",
        "\n",
        "    n_classes = len(classes)\n",
        "    \n",
        "    # Flattening the data:\n",
        "    print(\"Flattening the data...\")\n",
        "    X = X.reshape(-1, n_features, 1)\n",
        "\n",
        "    # The following section is reserved for the one-hot encoding\n",
        "\n",
        "    #new_y = np.zeros((y.shape[0], n_classes))\n",
        "    #new_y[np.arange(y.shape[0]), y] = 1\n",
        "\n",
        "    #y = new_y.reshape(-1, 10, 1)\n",
        "\n",
        "    # Removing an unnecessary dimension\n",
        "    X = np.stqueeze(X)\n",
        "    y = np.squeeze(y)\n",
        "    \n",
        "    print(\"Done.\")\n",
        "    return X, y"
      ],
      "execution_count": 0,
      "outputs": []
    },
    {
      "cell_type": "code",
      "metadata": {
        "id": "WJj2KRoQDD8v",
        "colab_type": "code",
        "outputId": "39ce5004-9c80-42cd-cf9f-47eed2ec86f7",
        "colab": {
          "base_uri": "https://localhost:8080/",
          "height": 126
        }
      },
      "source": [
        "%time X, y = preprocessing(trainset)"
      ],
      "execution_count": 0,
      "outputs": [
        {
          "output_type": "stream",
          "text": [
            "Converting to numpy arrays...\n",
            "Normalizing...\n",
            "Flattening the data...\n",
            "Done.\n",
            "CPU times: user 4.75 s, sys: 638 ms, total: 5.39 s\n",
            "Wall time: 5.39 s\n"
          ],
          "name": "stdout"
        }
      ]
    },
    {
      "cell_type": "markdown",
      "metadata": {
        "id": "v9i-tH_NAaIc",
        "colab_type": "text"
      },
      "source": [
        "## 2. Implementing the multilayer perceptron (MLP)"
      ]
    },
    {
      "cell_type": "markdown",
      "metadata": {
        "id": "bni5lUL4U3TV",
        "colab_type": "text"
      },
      "source": [
        "First, we define a layer as a separate class that can provide output according to its input or propogate gradients. An empty layer is defined in such a way that its output is the same with its input. Further inheritance extends the funcitonality of the layer."
      ]
    },
    {
      "cell_type": "code",
      "metadata": {
        "id": "vddUykEmzUko",
        "colab_type": "code",
        "colab": {}
      },
      "source": [
        "class Layer:\n",
        "\n",
        "    def __init__(self):\n",
        "        pass\n",
        "    \n",
        "    # Implementing the feedforward\n",
        "    def feedforward(self, x):\n",
        "        return x\n",
        "\n",
        "    # Implementing the backpropagation\n",
        "    def backpropagation(self, x, grad_y):\n",
        "        n_units = x.shape[1]\n",
        "        \n",
        "        grad_layer = np.eye(n_units)\n",
        "\n",
        "        # By the chain rule:\n",
        "        return np.dot(grad_y, grad_layer) "
      ],
      "execution_count": 0,
      "outputs": []
    },
    {
      "cell_type": "markdown",
      "metadata": {
        "id": "kNrVjpRiXuuq",
        "colab_type": "text"
      },
      "source": [
        "The ReLU funcion is essentially defined as $f(x) = \\max(x, 0)$."
      ]
    },
    {
      "cell_type": "code",
      "metadata": {
        "id": "LPDVvF-EzYAA",
        "colab_type": "code",
        "colab": {}
      },
      "source": [
        "class ReLU(Layer):\n",
        "\n",
        "    def __init__(self):\n",
        "        pass\n",
        "\n",
        "    # Implementing the feedforward\n",
        "    def feedforward(self, x):\n",
        "        return np.maximum(x, 0)\n",
        "\n",
        "    # Implementing the backpropagation\n",
        "    def backpropagation(self, x, grad_y):\n",
        "        grad_ReLU = x > 0\n",
        "        return grad_y * grad_ReLU"
      ],
      "execution_count": 0,
      "outputs": []
    },
    {
      "cell_type": "markdown",
      "metadata": {
        "id": "jIBEnmHiX9AF",
        "colab_type": "text"
      },
      "source": [
        "In this work, fully connected (dense) layers are used, i.e. the layers can be defined as $f(x) = Wx + b$ where $W$ is the weight matrix of the layer, $x$ is its input, and $b$ is the bias."
      ]
    },
    {
      "cell_type": "code",
      "metadata": {
        "id": "uGeUR3QjzdHm",
        "colab_type": "code",
        "colab": {}
      },
      "source": [
        "class Dense(Layer):\n",
        "    \n",
        "    def __init__(self,\n",
        "                 n_x, # number of inputs\n",
        "                 n_y, # number of outputs\n",
        "                 lr = 0.01 # learning rate\n",
        "                 ):\n",
        "        \n",
        "        self.lr = lr\n",
        "\n",
        "        # Weights:\n",
        "        self.W = np.random.normal(loc = 0.0,\n",
        "                                  scale = np.sqrt(2 / (n_x + n_y)),\n",
        "                                  size = (n_x,n_y))\n",
        "        # Biases:\n",
        "        self.b = np.zeros(n_y)\n",
        "\n",
        "    # Implementing the feedforward\n",
        "    def feedforward(self, x):    \n",
        "\n",
        "        return np.dot(x, self.W) + self.b\n",
        "    \n",
        "    # Implementing the backpropagation with stochastic gradient descent (SGD)\n",
        "    def backpropagation(self, x, grad_y):\n",
        " \n",
        "        grad_x = np.dot(grad_y, self.W.T)\n",
        "        \n",
        "        grad_W = np.dot(x.T, grad_y)\n",
        "        grad_b = grad_y.mean(axis = 0) * x.shape[0]\n",
        "        \n",
        "        assert grad_W.shape == self.W.shape and grad_b.shape == self.b.shape\n",
        "        \n",
        "        # SGD step:\n",
        "        self.W = self.W - self.lr * grad_W\n",
        "        self.b = self.b - self.lr * grad_b\n",
        "        \n",
        "        return grad_x"
      ],
      "execution_count": 0,
      "outputs": []
    },
    {
      "cell_type": "markdown",
      "metadata": {
        "id": "tY-5DbtNfFeQ",
        "colab_type": "text"
      },
      "source": [
        "The multi-layer preceptron is defined as a class in this work. Note that the standard cross entropy loss is used, which is defined as $L_{CE} (y, w^\\top x) = -y \\log(\\hat{y}) - (1 - y) \\log(1-\\hat{y})$ where $\\hat{y}_c = \\mathrm{softmax}(x)_c = \\frac{e^{z_c}}{\\Sigma_{c'=1}^C e^{z_{c'}}}$ and $z = w^\\top x$ is a logit, so $\\Sigma_c \\hat{y} = 1$."
      ]
    },
    {
      "cell_type": "code",
      "metadata": {
        "id": "_nMFgG-dwwtR",
        "colab_type": "code",
        "colab": {}
      },
      "source": [
        "from tqdm import trange\n",
        "from IPython.display import clear_output"
      ],
      "execution_count": 0,
      "outputs": []
    },
    {
      "cell_type": "code",
      "metadata": {
        "id": "XQ2jzzwwo4go",
        "colab_type": "code",
        "colab": {}
      },
      "source": [
        "class MLP:\n",
        "\n",
        "    def __init__(\n",
        "        self,\n",
        "        layers, # layers used in MLP\n",
        "        n_epochs = 15 # number of epochs\n",
        "        ):\n",
        "\n",
        "        self.layers = layers\n",
        "        self.n_epochs = n_epochs\n",
        "\n",
        "\n",
        "    # Implementing the softmax function:\n",
        "    def __softmax(self, z):\n",
        "        return np.exp(z) / np.exp(z).sum(axis = -1, keepdims = True)\n",
        "\n",
        "    # Implementing the softmax cross-entropy loss function:\n",
        "    def __loss(self,\n",
        "               z, # logit\n",
        "               y # output\n",
        "               ):\n",
        "        return - z[np.arange(len(z)), y] + np.log(np.sum(np.exp(z), axis = -1))\n",
        "\n",
        "    # Implementing the gradient of the loss function:\n",
        "    def __grad_loss(self,\n",
        "                    z, # logit\n",
        "                    y # output\n",
        "                    ):\n",
        "      \n",
        "        yh = self.__softmax(z)\n",
        "\n",
        "        ones = np.zeros_like(z)\n",
        "        ones[np.arange(len(z)), y] = 1\n",
        "        \n",
        "        return (- ones + yh) / z.shape[0]\n",
        "\n",
        "    # Implementing the feedforward:\n",
        "    def __feedforward(self,\n",
        "                      layers, # all layers\n",
        "                      x # input\n",
        "                      ):\n",
        "      \n",
        "        hs = [] # activations\n",
        "        \n",
        "        for layer in layers:\n",
        "            hs.append(layer.feedforward(x))\n",
        "            x = hs[-1]\n",
        "        \n",
        "        assert len(hs) == len(layers)\n",
        "        return hs\n",
        "\n",
        "    def __iterate_minibatches(self, X, y, batch_size):\n",
        "        assert len(X) == len(y)\n",
        "        \n",
        "        ids = np.random.permutation(len(X))\n",
        "        for i in trange(0, len(X) - batch_size + 1, batch_size):\n",
        "            k = ids[i:i + batch_size]\n",
        "            yield X[k], y[k]\n",
        "\n",
        "    # Implementing the fit function:\n",
        "    def fit(self,\n",
        "            X,\n",
        "            y\n",
        "            ):\n",
        "      \n",
        "        layer_h = self.__feedforward(self.layers, X)\n",
        "        layer_x = [X] + layer_h \n",
        "        z = layer_h[-1]\n",
        "        \n",
        "        # Obtaining the loss\n",
        "        y = y.astype(int)\n",
        "        loss = self.__loss(z, y)\n",
        "        grad_loss = self.__grad_loss(z, y)\n",
        "        \n",
        "        # Backpropagation:\n",
        "        for layer_id in range(len(self.layers))[::-1]:\n",
        "            layer = self.layers[layer_id]\n",
        "            \n",
        "            grad_loss = layer.backpropagation(layer_x[layer_id], grad_loss)\n",
        "            \n",
        "        return np.mean(loss)\n",
        "\n",
        "    # Implementing the predict function\n",
        "    def predict(self, X):\n",
        "        z = self.__feedforward(self.layers, X)[-1]\n",
        "        return z.argmax(axis = -1)\n",
        "\n",
        "    def evaluate_acc(self, X_train, y_train, X_val, y_val):\n",
        "        train_log = []\n",
        "        val_log = []\n",
        "        for i in range(self.n_epochs):\n",
        "            for x_batch,y_batch in self.__iterate_minibatches(X_train, y_train, batch_size = 32):\n",
        "                self.fit(x_batch, y_batch)\n",
        "            \n",
        "            train_log.append(np.mean(self.predict(X_train) == y_train))\n",
        "            val_log.append(np.mean(self.predict(X_val) == y_val))\n",
        "            \n",
        "            clear_output()\n",
        "            print(\"Epoch\", i)\n",
        "            print(\"Train accuracy:\", train_log[-1])\n",
        "            print(\"Val accuracy:\", val_log[-1])\n",
        "            plt.plot(train_log, label = 'train accuracy')\n",
        "            plt.plot(val_log, label='validation accuracy')\n",
        "            plt.legend(loc = 'best')\n",
        "            plt.grid()\n",
        "            plt.show()\n",
        "        \n",
        "        return train_log, val_log"
      ],
      "execution_count": 0,
      "outputs": []
    },
    {
      "cell_type": "markdown",
      "metadata": {
        "id": "ezwGjf5W5_Ih",
        "colab_type": "text"
      },
      "source": [
        "Now, all is set for experiments. First, all layers are defined:\n",
        "\n",
        "\n"
      ]
    },
    {
      "cell_type": "code",
      "metadata": {
        "id": "QIZexezOjRe2",
        "colab_type": "code",
        "outputId": "58ffac67-7047-4e90-9def-d619742f026c",
        "colab": {
          "base_uri": "https://localhost:8080/",
          "height": 108
        }
      },
      "source": [
        "layers = []\n",
        "layers.append(Dense(X.shape[1], 256))\n",
        "layers.append(ReLU())\n",
        "layers.append(Dense(256, 256))\n",
        "layers.append(ReLU())\n",
        "layers.append(Dense(256, 10))\n",
        "\n",
        "layers"
      ],
      "execution_count": 0,
      "outputs": [
        {
          "output_type": "execute_result",
          "data": {
            "text/plain": [
              "[<__main__.Dense at 0x7f10a6446208>,\n",
              " <__main__.ReLU at 0x7f10a64461d0>,\n",
              " <__main__.Dense at 0x7f10a6446240>,\n",
              " <__main__.ReLU at 0x7f10a6446978>,\n",
              " <__main__.Dense at 0x7f10a6446e80>]"
            ]
          },
          "metadata": {
            "tags": []
          },
          "execution_count": 13
        }
      ]
    },
    {
      "cell_type": "markdown",
      "metadata": {
        "id": "tALwrjz56JVU",
        "colab_type": "text"
      },
      "source": [
        "Setting up the multi-layer perceptron:"
      ]
    },
    {
      "cell_type": "code",
      "metadata": {
        "id": "2faeS1YQjVHO",
        "colab_type": "code",
        "colab": {}
      },
      "source": [
        "model = MLP(layers = layers, n_epochs = 15)"
      ],
      "execution_count": 0,
      "outputs": []
    },
    {
      "cell_type": "markdown",
      "metadata": {
        "id": "rTmgEiPS6tg-",
        "colab_type": "text"
      },
      "source": [
        "For the initial test, the last 10 000 training samples are taken for validation"
      ]
    },
    {
      "cell_type": "code",
      "metadata": {
        "id": "w_mltjGNo_lk",
        "colab_type": "code",
        "colab": {}
      },
      "source": [
        "X_train, X_val = X[:-10000], X[-10000:]\n",
        "y_train, y_val = y[:-10000], y[-10000:]"
      ],
      "execution_count": 0,
      "outputs": []
    },
    {
      "cell_type": "code",
      "metadata": {
        "id": "MZLbOdjdpEbu",
        "colab_type": "code",
        "outputId": "a1be7e8d-a729-483f-d88c-81c738dca966",
        "colab": {
          "base_uri": "https://localhost:8080/",
          "height": 323
        }
      },
      "source": [
        "train_log, val_log = model.evaluate_acc(X_train, y_train, X_val, y_val)"
      ],
      "execution_count": 0,
      "outputs": [
        {
          "output_type": "stream",
          "text": [
            "Epoch 14\n",
            "Train accuracy: 0.574825\n",
            "Val accuracy: 0.5103\n"
          ],
          "name": "stdout"
        },
        {
          "output_type": "display_data",
          "data": {
            "image/png": "[encoded data removed]",
            "text/plain": [
              "<Figure size 432x288 with 1 Axes>"
            ]
          },
          "metadata": {
            "tags": [],
            "needs_background": "light"
          }
        }
      ]
    },
    {
      "cell_type": "markdown",
      "metadata": {
        "id": "XIkPALGf8X_l",
        "colab_type": "text"
      },
      "source": [
        "### 3. $k$-fold cross-validation"
      ]
    },
    {
      "cell_type": "code",
      "metadata": {
        "id": "JRjGMuQPq_W9",
        "colab_type": "code",
        "colab": {}
      },
      "source": [
        "def k_fold_cross_validation(X, # features\n",
        "                            y, # targets\n",
        "                            model, #model to validate\n",
        "                            k = 5 # number of folds\n",
        "                            ):\n",
        "    fold_size = int( len(X) / k )\n",
        "    \n",
        "    val_acc = []\n",
        "\n",
        "    for i in range(k):\n",
        "\n",
        "        # Data split\n",
        "        X_train, X_val = np.concatenate((X[:i * fold_size], X[(i + 1) * fold_size :])), X[i * fold_size : (i + 1) * fold_size]\n",
        "        y_train, y_val = np.concatenate((y[:i * fold_size], y[(i + 1) * fold_size :])), y[i * fold_size : (i + 1) * fold_size]\n",
        "\n",
        "        val_acc.append(np.mean(model.predict(X_val) == y_val))\n",
        "\n",
        "    print(\"Average validation accuracy:\", np.mean(val_acc))\n",
        "\n",
        "    return np.mean(val_acc)"
      ],
      "execution_count": 0,
      "outputs": []
    },
    {
      "cell_type": "code",
      "metadata": {
        "id": "-rZPXX8YrDpE",
        "colab_type": "code",
        "outputId": "d21ac8f3-bef6-4d60-97ba-76ea1e443224",
        "colab": {
          "base_uri": "https://localhost:8080/",
          "height": 35
        }
      },
      "source": [
        "val_acc = k_fold_cross_validation(X, y, model, k = 5)"
      ],
      "execution_count": 0,
      "outputs": [
        {
          "output_type": "stream",
          "text": [
            "Average validation accuracy: 0.56192\n"
          ],
          "name": "stdout"
        }
      ]
    },
    {
      "cell_type": "markdown",
      "metadata": {
        "id": "8FsBE5AkbhWg",
        "colab_type": "text"
      },
      "source": [
        "## 4. Testing"
      ]
    },
    {
      "cell_type": "markdown",
      "metadata": {
        "id": "BvCzO6sGyDaI",
        "colab_type": "text"
      },
      "source": [
        "Preprocessing the test data:"
      ]
    },
    {
      "cell_type": "code",
      "metadata": {
        "id": "vfyB3zCByCsl",
        "colab_type": "code",
        "outputId": "014d7be5-1906-4a32-9fdd-5f65b633d8a1",
        "colab": {
          "base_uri": "https://localhost:8080/",
          "height": 126
        }
      },
      "source": [
        "%time X_test, y_test = preprocessing(testset)"
      ],
      "execution_count": 0,
      "outputs": [
        {
          "output_type": "stream",
          "text": [
            "Converting to numpy arrays...\n",
            "Normalizing...\n",
            "Flattening the data...\n",
            "Done.\n",
            "CPU times: user 4.85 s, sys: 109 ms, total: 4.96 s\n",
            "Wall time: 4.88 s\n"
          ],
          "name": "stdout"
        }
      ]
    },
    {
      "cell_type": "code",
      "metadata": {
        "id": "Xu-vi5TeyOSL",
        "colab_type": "code",
        "outputId": "7dfe9c79-e960-4c66-bbdc-c1e41ca9ef47",
        "colab": {
          "base_uri": "https://localhost:8080/",
          "height": 35
        }
      },
      "source": [
        "print(\"Accuracy on test data\", np.mean(model.predict(X_test) == y_test))"
      ],
      "execution_count": 0,
      "outputs": [
        {
          "output_type": "stream",
          "text": [
            "Accuracy on test data 0.56192\n"
          ],
          "name": "stdout"
        }
      ]
    },
    {
      "cell_type": "markdown",
      "metadata": {
        "id": "KAXDQZh_z7TE",
        "colab_type": "text"
      },
      "source": [
        "## 5. Improving the accuracy"
      ]
    },
    {
      "cell_type": "markdown",
      "metadata": {
        "id": "HME1P6CNz8I6",
        "colab_type": "text"
      },
      "source": [
        "The accuracy of 54.22% obtained in $k$-fold cross-validation calls for a bit of improvement. In attempt to do so, it was decided to apply $k$-fold split for training, i.e. running the training $k=5$ times with 15 epochs on each fold. The idea behind this is that it could help the model respond better on unseen data and make it more adaptive. First, the model is defined again:"
      ]
    },
    {
      "cell_type": "code",
      "metadata": {
        "id": "zayZRmF_06nD",
        "colab_type": "code",
        "colab": {}
      },
      "source": [
        "model = MLP(layers = layers, n_epochs = 15)"
      ],
      "execution_count": 0,
      "outputs": []
    },
    {
      "cell_type": "markdown",
      "metadata": {
        "id": "T0JsQiPb0_mf",
        "colab_type": "text"
      },
      "source": [
        "Now, the proposed approach is defined as a separate function:"
      ]
    },
    {
      "cell_type": "code",
      "metadata": {
        "id": "2nnd-Z7r1FPx",
        "colab_type": "code",
        "colab": {}
      },
      "source": [
        "def k_fold_fit(X, # features\n",
        "               y, # targets\n",
        "               model, #model to validate\n",
        "               k = 5 # number of folds\n",
        "               ):\n",
        "    fold_size = int( len(X) / k )\n",
        "\n",
        "    train_acc = []\n",
        "    val_acc = []\n",
        "\n",
        "    for i in range(k):\n",
        "\n",
        "        # Data split\n",
        "        X_train, X_val = np.concatenate((X[:i * fold_size], X[(i + 1) * fold_size :])), X[i * fold_size : (i + 1) * fold_size]\n",
        "        y_train, y_val = np.concatenate((y[:i * fold_size], y[(i + 1) * fold_size :])), y[i * fold_size : (i + 1) * fold_size]\n",
        "\n",
        "        train_log, val_log = model.evaluate_acc(X_train, y_train, X_val, y_val)\n",
        "        train_acc.append(train_log[-1])\n",
        "        val_acc.append(val_log[-1])\n",
        "\n",
        "    print(\"Average train accuracy:\", np.mean(train_acc))\n",
        "    print(\"Average validation accuracy:\", np.mean(val_acc))\n",
        "    return np.mean(train_acc), np.mean(val_acc)"
      ],
      "execution_count": 0,
      "outputs": []
    },
    {
      "cell_type": "code",
      "metadata": {
        "id": "AeB0Pi8Y1ad_",
        "colab_type": "code",
        "outputId": "b861e357-db2e-42aa-9a5d-4792e97f3c97",
        "colab": {
          "base_uri": "https://localhost:8080/",
          "height": 359
        }
      },
      "source": [
        "train_acc, val_acc = k_fold_fit(X, y, model, k = 5)"
      ],
      "execution_count": 0,
      "outputs": [
        {
          "output_type": "stream",
          "text": [
            "Epoch 14\n",
            "Train accuracy: 0.8366\n",
            "Val accuracy: 0.7256\n"
          ],
          "name": "stdout"
        },
        {
          "output_type": "display_data",
          "data": {
            "image/png": "[encoded data removed]",
            "text/plain": [
              "<Figure size 432x288 with 1 Axes>"
            ]
          },
          "metadata": {
            "tags": [],
            "needs_background": "light"
          }
        },
        {
          "output_type": "stream",
          "text": [
            "Average train accuracy: 0.7449899999999999\n",
            "Average validation accuracy: 0.64836\n"
          ],
          "name": "stdout"
        }
      ]
    },
    {
      "cell_type": "markdown",
      "metadata": {
        "id": "YnFCLd4M7ux-",
        "colab_type": "text"
      },
      "source": [
        "## 6. $k$-fold cross-validation again"
      ]
    },
    {
      "cell_type": "code",
      "metadata": {
        "id": "J6S-t7zJ74ez",
        "colab_type": "code",
        "outputId": "fa6b8a68-4f0c-4bd1-f09f-60f1e32af90a",
        "colab": {
          "base_uri": "https://localhost:8080/",
          "height": 35
        }
      },
      "source": [
        "val_acc = k_fold_cross_validation(X, y, model, k = 5)"
      ],
      "execution_count": 0,
      "outputs": [
        {
          "output_type": "stream",
          "text": [
            "Average validation accuracy: 0.8144\n"
          ],
          "name": "stdout"
        }
      ]
    },
    {
      "cell_type": "markdown",
      "metadata": {
        "id": "mfZDLPHet0Kb",
        "colab_type": "text"
      },
      "source": [
        "## 7. Testing again"
      ]
    },
    {
      "cell_type": "markdown",
      "metadata": {
        "id": "q0ZxHMNz2meb",
        "colab_type": "text"
      },
      "source": [
        "Preprocessing the test data:"
      ]
    },
    {
      "cell_type": "code",
      "metadata": {
        "id": "bIljkQDau92L",
        "colab_type": "code",
        "outputId": "fa339dcb-a70c-43c0-bb6d-0abb481cd84e",
        "colab": {
          "base_uri": "https://localhost:8080/",
          "height": 126
        }
      },
      "source": [
        "%time X_test, y_test = preprocessing(testset)"
      ],
      "execution_count": 0,
      "outputs": [
        {
          "output_type": "stream",
          "text": [
            "Converting to numpy arrays...\n",
            "Normalizing...\n",
            "Flattening the data...\n",
            "Done.\n",
            "CPU times: user 4.89 s, sys: 122 ms, total: 5.01 s\n",
            "Wall time: 4.94 s\n"
          ],
          "name": "stdout"
        }
      ]
    },
    {
      "cell_type": "code",
      "metadata": {
        "id": "8T-LJtGfvEzg",
        "colab_type": "code",
        "outputId": "89737779-3c38-4a8a-a581-6ae5f8529b60",
        "colab": {
          "base_uri": "https://localhost:8080/",
          "height": 35
        }
      },
      "source": [
        "print(\"Accuracy on test data\", np.mean(model.predict(X_test) == y_test))"
      ],
      "execution_count": 0,
      "outputs": [
        {
          "output_type": "stream",
          "text": [
            "Accuracy on test data 0.8144\n"
          ],
          "name": "stdout"
        }
      ]
    },
    {
      "cell_type": "code",
      "metadata": {
        "id": "WvxvjuMh7-lZ",
        "colab_type": "code",
        "colab": {}
      },
      "source": [
        ""
      ],
      "execution_count": 0,
      "outputs": []
    }
  ]
}